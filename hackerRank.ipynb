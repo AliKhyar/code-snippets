{
  "nbformat": 4,
  "nbformat_minor": 0,
  "metadata": {
    "colab": {
      "name": "hackerRank.ipynb",
      "provenance": [],
      "authorship_tag": "ABX9TyPKo+F7qLVngwkQkZt9MktF",
      "include_colab_link": true
    },
    "kernelspec": {
      "name": "python3",
      "display_name": "Python 3"
    }
  },
  "cells": [
    {
      "cell_type": "markdown",
      "metadata": {
        "id": "view-in-github",
        "colab_type": "text"
      },
      "source": [
        "<a href=\"https://colab.research.google.com/github/AliKhyar/code-snippets/blob/master/hackerRank.ipynb\" target=\"_parent\"><img src=\"https://colab.research.google.com/assets/colab-badge.svg\" alt=\"Open In Colab\"/></a>"
      ]
    },
    {
      "cell_type": "code",
      "metadata": {
        "id": "WieyaFzet-Gf",
        "colab_type": "code",
        "outputId": "0e79f02d-2b16-4d79-8788-37aad16bfb77",
        "colab": {
          "base_uri": "https://localhost:8080/",
          "height": 34
        }
      },
      "source": [
        "[1,4,5]+[1]"
      ],
      "execution_count": 0,
      "outputs": [
        {
          "output_type": "execute_result",
          "data": {
            "text/plain": [
              "[1, 4, 5, 1]"
            ]
          },
          "metadata": {
            "tags": []
          },
          "execution_count": 1
        }
      ]
    },
    {
      "cell_type": "code",
      "metadata": {
        "id": "DsAO55ttuq5L",
        "colab_type": "code",
        "colab": {}
      },
      "source": [
        "import math\n",
        "import os\n",
        "import random\n",
        "import re\n",
        "import sys\n",
        "\n",
        "# Complete the cipher function below.\n",
        "def cipher(k, s):\n",
        "    if len(s)==1 or len(s)==2:\n",
        "        return s\n",
        "\n",
        "    reslut = [0]*k\n",
        "    reslut[0],reslut[-1]=s[0],s[-1]\n",
        "    return reslut[0]+cipher(k-2,s[1:len(s)-1])+reslut[-1]\n"
      ],
      "execution_count": 0,
      "outputs": []
    },
    {
      "cell_type": "code",
      "metadata": {
        "id": "ZqZiz5w91eXC",
        "colab_type": "code",
        "colab": {}
      },
      "source": [
        "def cipher(k, s):\n",
        "    if len(s)==1 or len(s)==2:\n",
        "        return s\n",
        "    else:\n",
        "      reslut = [0]*k\n",
        "      reslut[0],reslut[-1]=s[0],s[-1]\n",
        "      return reslut[0]+cipher(k-2,s[1:len(s)-1])+reslut[-1]\n"
      ],
      "execution_count": 0,
      "outputs": []
    },
    {
      "cell_type": "code",
      "metadata": {
        "id": "Riqzcdm3vGuh",
        "colab_type": "code",
        "colab": {}
      },
      "source": [
        "def cipher(k, s):\n",
        "    space = []\n",
        "    string = str(s)\n",
        "    string = s.split()\n",
        "\n",
        "    sentence = []\n",
        "\n",
        "    for s in string:\n",
        "        cipher_ords = [ord(x) for x in word]\n",
        "        plaintext_ords = [o - shift for o in cipher_ords]\n",
        "        plaintext_chars = [chr(i) for i in plaintext_ords]\n",
        "        plaintext = ''.join(plaintext_chars)\n",
        "        sentence.append(plaintext)\n",
        "\n",
        "    # join each word in the sentence list back together by a space.\n",
        "    sentence = ' '.join(sentence)\n",
        "\n",
        "\n",
        "                                                      \n",
        "                                    "
      ],
      "execution_count": 0,
      "outputs": []
    },
    {
      "cell_type": "code",
      "metadata": {
        "id": "tkPd-5SLviu2",
        "colab_type": "code",
        "outputId": "a3ae8d67-38d8-4e83-c727-6892d3c031ad",
        "colab": {
          "base_uri": "https://localhost:8080/",
          "height": 119
        }
      },
      "source": [
        "def solve(meal_cost, tip_percent, tax_percent):\n",
        "    val = meal_cost*(1+(tip_percent+tax_percent)/100)\n",
        "    print(val)\n",
        "    if round(val% 1,2)>=0.5:\n",
        "      print(int(val) +1)\n",
        "    else:\n",
        "      print( int(val))\n",
        "\n",
        "\n",
        "    print()\n",
        "\n",
        "if __name__ == '__main__':\n",
        "    meal_cost = float(input())\n",
        "\n",
        "    tip_percent = int(input())\n",
        "\n",
        "    tax_percent = int(input())\n",
        "\n",
        "    solve(meal_cost, tip_percent, tax_percent)"
      ],
      "execution_count": 0,
      "outputs": [
        {
          "output_type": "stream",
          "text": [
            "10.25\n",
            "17\n",
            "5\n",
            "12.504999999999999\n",
            "13\n",
            "\n"
          ],
          "name": "stdout"
        }
      ]
    },
    {
      "cell_type": "code",
      "metadata": {
        "id": "qceeX2UX8qgk",
        "colab_type": "code",
        "colab": {}
      },
      "source": [
        "j = int()\n",
        "k = float()\n",
        "l = str()\n",
        "# Read and save an integer, double, and String to your variables.\n",
        "j = int(input())\n",
        "k = float(input())\n",
        "l = str(input())\n",
        "# Print the sum of both integer variables on a new line.\n",
        "\n",
        "# Print the sum of the double variables on a new line.\n",
        "\n",
        "# Concatenate and print the String variables on a new line\n",
        "# The 's' variable above should be printed first.\n"
      ],
      "execution_count": 0,
      "outputs": []
    },
    {
      "cell_type": "code",
      "metadata": {
        "id": "JhiTY-jW9GGV",
        "colab_type": "code",
        "colab": {}
      },
      "source": [
        "def timeConversion(s):\n",
        "    #\n",
        "    print('Called1')\n",
        "    if s[-2:]=='PM':\n",
        "      print('Called2')\n",
        "      if s[:2] == '12':\n",
        "        print('Called3')\n",
        "        a = '00'+s[2:8]\n",
        "        print(a)\n",
        "        return a\n",
        "      else:\n",
        "        a = str(int(s[:2])+12)+s[2:8]\n",
        "        print(a)\n",
        "        return a            \n",
        "    elif s[-2:]=='AM':\n",
        "      print(a)\n",
        "      return s[:8]"
      ],
      "execution_count": 0,
      "outputs": []
    },
    {
      "cell_type": "code",
      "metadata": {
        "id": "QEA-OSLYMXWK",
        "colab_type": "code",
        "outputId": "4b3606bf-64f7-4de3-a57f-451746a1b9e4",
        "colab": {
          "base_uri": "https://localhost:8080/",
          "height": 102
        }
      },
      "source": [
        "timeConversion('12:12:15PM')"
      ],
      "execution_count": 0,
      "outputs": [
        {
          "output_type": "stream",
          "text": [
            "Called1\n",
            "Called2\n",
            "Called3\n",
            "00:12:15\n"
          ],
          "name": "stdout"
        },
        {
          "output_type": "execute_result",
          "data": {
            "text/plain": [
              "'00:12:15'"
            ]
          },
          "metadata": {
            "tags": []
          },
          "execution_count": 36
        }
      ]
    },
    {
      "cell_type": "code",
      "metadata": {
        "id": "NQRan9o9MdYd",
        "colab_type": "code",
        "outputId": "270faa2a-bf60-45e9-fdba-a973cf23698d",
        "colab": {
          "base_uri": "https://localhost:8080/",
          "height": 34
        }
      },
      "source": [
        "s = '00:12:15PM'\n",
        "s[-2:]"
      ],
      "execution_count": 0,
      "outputs": [
        {
          "output_type": "execute_result",
          "data": {
            "text/plain": [
              "'PM'"
            ]
          },
          "metadata": {
            "tags": []
          },
          "execution_count": 29
        }
      ]
    },
    {
      "cell_type": "code",
      "metadata": {
        "id": "md-BHIioMhAp",
        "colab_type": "code",
        "outputId": "9d4bb9ed-1f12-4ce4-9d9c-96cce9be27bb",
        "colab": {
          "base_uri": "https://localhost:8080/",
          "height": 34
        }
      },
      "source": [
        "str(int(s[:2])+12)+s[2:8]"
      ],
      "execution_count": 0,
      "outputs": [
        {
          "output_type": "execute_result",
          "data": {
            "text/plain": [
              "'12:12:15'"
            ]
          },
          "metadata": {
            "tags": []
          },
          "execution_count": 19
        }
      ]
    },
    {
      "cell_type": "code",
      "metadata": {
        "id": "wMaTsC76MtuY",
        "colab_type": "code",
        "colab": {}
      },
      "source": [
        "\n",
        "def meanGroups(a):\n",
        "    d = dict()\n",
        "    \n",
        "    for i in range(len(a)):\n",
        "        m = sum(a[i])/len(a[i])\n",
        "        if m in d: \n",
        "          d[m] += [i] \n",
        "           \n",
        "        else:\n",
        "          d[m] = [i]\n",
        "      \n",
        "    \n",
        "    print(d)      \n",
        "    return list(d.values())\n",
        "            "
      ],
      "execution_count": 0,
      "outputs": []
    },
    {
      "cell_type": "code",
      "metadata": {
        "id": "VamUXefoNHp9",
        "colab_type": "code",
        "colab": {}
      },
      "source": [
        "a = [[3, 3, 4, 2],\n",
        "     [4, 4],\n",
        "     [4, 0, 3, 3],\n",
        "     [2, 3],\n",
        "     [3, 3, 3]]\n",
        "     "
      ],
      "execution_count": 0,
      "outputs": []
    },
    {
      "cell_type": "code",
      "metadata": {
        "id": "kgmtuBvuCLIu",
        "colab_type": "code",
        "outputId": "a188ffd1-9071-4f32-fe06-61b76de0acb8",
        "colab": {
          "base_uri": "https://localhost:8080/",
          "height": 51
        }
      },
      "source": [
        "\n",
        "print(meanGroups(a))"
      ],
      "execution_count": 0,
      "outputs": [
        {
          "output_type": "stream",
          "text": [
            "{3.0: [0, 4], 4.0: [1], 2.5: [2, 3]}\n",
            "[[0, 4], [1], [2, 3]]\n"
          ],
          "name": "stdout"
        }
      ]
    },
    {
      "cell_type": "code",
      "metadata": {
        "id": "4CRE_N8iCNpo",
        "colab_type": "code",
        "colab": {}
      },
      "source": [
        "k = [3,4,5]"
      ],
      "execution_count": 0,
      "outputs": []
    },
    {
      "cell_type": "code",
      "metadata": {
        "id": "YjQG8ZVhDozQ",
        "colab_type": "code",
        "colab": {}
      },
      "source": [
        "def concatenationsSum(a):\n",
        "    same_seen = set()\n",
        "    concats = []\n",
        "    \n",
        "    for i in range(len(a)):\n",
        "        for j in range(len(a)):\n",
        "            if (a == j) and ((a,j) not in same_seen):\n",
        "                concats.append(str(a[i])+str(a[j]))\n",
        "                same_seen.add((i,j))\n",
        "            else:\n",
        "                concats.append(str(a[i])+str(a[j]))\n",
        "    \n",
        "    return sum([int(i) for i in concats])\n",
        "                "
      ],
      "execution_count": 0,
      "outputs": []
    },
    {
      "cell_type": "code",
      "metadata": {
        "id": "ihwdhowSDr8H",
        "colab_type": "code",
        "outputId": "b4ef2e30-7ba6-488f-cc6f-2cd3df9d7d67",
        "colab": {
          "base_uri": "https://localhost:8080/",
          "height": 34
        }
      },
      "source": [
        " a = ['10', 2]\n",
        " concatenationsSum(a)"
      ],
      "execution_count": 0,
      "outputs": [
        {
          "output_type": "execute_result",
          "data": {
            "text/plain": [
              "1344"
            ]
          },
          "metadata": {
            "tags": []
          },
          "execution_count": 90
        }
      ]
    },
    {
      "cell_type": "code",
      "metadata": {
        "id": "8HocHfZ0GANW",
        "colab_type": "code",
        "outputId": "dfe03ce5-c591-4ee6-ed21-a5446342ee04",
        "colab": {
          "base_uri": "https://localhost:8080/",
          "height": 187
        }
      },
      "source": [
        "# Enter your code here. Read input from STDIN. Print output to STDOUT\n",
        "\n",
        "def add(name, phone, phoneBook):\n",
        "    phoneBook[name] = phone\n",
        "\n",
        "def query(name,phoneBook):\n",
        "    if name in phoneBook:\n",
        "        return name+'='+phoneBook[name]\n",
        "    else:\n",
        "        return 'Not found'\n",
        "\n",
        "\n",
        "def main():\n",
        "    phoneBook = dict()\n",
        "    to_be_searched = []\n",
        "    n = int(input())\n",
        "\n",
        "    for i in range(n):\n",
        "        line = str(input())\n",
        "        name, phone = line.split (\" \")\n",
        "        add(name, phone, phoneBook)\n",
        "    for i in range(n):\n",
        "        name = str(input())\n",
        "        to_be_searched.append(name)\n",
        "    for val in to_be_searched:\n",
        "        print(query(val,phoneBook))\n",
        "\n",
        "main()"
      ],
      "execution_count": 3,
      "outputs": [
        {
          "output_type": "stream",
          "text": [
            "3\n",
            "sam 54515454\n",
            "ali 84891515\n",
            "hshshs 8940894890\n",
            "sam\n",
            "ali\n",
            "haha\n",
            "sam=54515454\n",
            "ali=84891515\n",
            "Not found\n"
          ],
          "name": "stdout"
        }
      ]
    },
    {
      "cell_type": "code",
      "metadata": {
        "id": "JaSisJUpGnRY",
        "colab_type": "code",
        "colab": {}
      },
      "source": [
        ""
      ],
      "execution_count": 0,
      "outputs": []
    }
  ]
}